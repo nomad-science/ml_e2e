{
 "cells": [
  {
   "cell_type": "code",
   "id": "initial_id",
   "metadata": {
    "collapsed": true,
    "ExecuteTime": {
     "end_time": "2024-08-04T15:59:12.343313Z",
     "start_time": "2024-08-04T15:59:12.337921Z"
    }
   },
   "source": [
    "import joblib\n",
    "import pandas as pd"
   ],
   "outputs": [],
   "execution_count": 2
  },
  {
   "metadata": {
    "ExecuteTime": {
     "end_time": "2024-08-04T15:59:15.096982Z",
     "start_time": "2024-08-04T15:59:14.557029Z"
    }
   },
   "cell_type": "code",
   "source": [
    "\n",
    "data_from_file = pd.read_csv(\"../feature_store/feature_data_milestone_3.csv\", index_col=\"PatientID\")\n",
    "\n",
    "estimator = joblib.load(\"../caches/logistic-regression-model-v1.pkl\")"
   ],
   "id": "977a9409fd1f9797",
   "outputs": [],
   "execution_count": 3
  },
  {
   "metadata": {
    "ExecuteTime": {
     "end_time": "2024-08-04T15:59:35.329548Z",
     "start_time": "2024-08-04T15:59:35.314327Z"
    }
   },
   "cell_type": "code",
   "source": "predictions = estimator.predict(data_from_file)",
   "id": "ceab0b2198452040",
   "outputs": [],
   "execution_count": 4
  },
  {
   "metadata": {
    "ExecuteTime": {
     "end_time": "2024-08-04T15:59:42.237215Z",
     "start_time": "2024-08-04T15:59:42.207968Z"
    }
   },
   "cell_type": "code",
   "source": "data_from_file[\"predictions\"] = predictions",
   "id": "9f88b459323cf727",
   "outputs": [],
   "execution_count": 5
  },
  {
   "metadata": {
    "ExecuteTime": {
     "end_time": "2024-08-04T16:00:00.459105Z",
     "start_time": "2024-08-04T16:00:00.435667Z"
    }
   },
   "cell_type": "code",
   "source": "data_from_file.head()\n",
   "id": "1cea3f0a82c8fff3",
   "outputs": [
    {
     "data": {
      "text/plain": [
       "           glucose  blood_pressure  skin_thickness  insulin   bmi  \\\n",
       "PatientID                                                           \n",
       "18022          129              80               0        0  31.2   \n",
       "18024          159              64               0        0  27.4   \n",
       "18051          137              61               0        0  24.2   \n",
       "18114          113              50              10       85  29.5   \n",
       "18147          105              90               0        0  29.6   \n",
       "\n",
       "           diabetes_pedigree_function  outcome  birth_year  \\\n",
       "PatientID                                                    \n",
       "18022                           0.703        0        1992   \n",
       "18024                           0.294        0        1981   \n",
       "18051                           0.151        0        1966   \n",
       "18114                           0.626        0        1996   \n",
       "18147                           0.197        0        1975   \n",
       "\n",
       "           number_of_pregnancies  age  glucose_insulin_difference  predictions  \n",
       "PatientID                                                                       \n",
       "18022                          0   32                         129            0  \n",
       "18024                          7   43                         159            1  \n",
       "18051                          6   58                         137            0  \n",
       "18114                          3   28                          28            0  \n",
       "18147                          0   49                         105            1  "
      ],
      "text/html": [
       "<div>\n",
       "<style scoped>\n",
       "    .dataframe tbody tr th:only-of-type {\n",
       "        vertical-align: middle;\n",
       "    }\n",
       "\n",
       "    .dataframe tbody tr th {\n",
       "        vertical-align: top;\n",
       "    }\n",
       "\n",
       "    .dataframe thead th {\n",
       "        text-align: right;\n",
       "    }\n",
       "</style>\n",
       "<table border=\"1\" class=\"dataframe\">\n",
       "  <thead>\n",
       "    <tr style=\"text-align: right;\">\n",
       "      <th></th>\n",
       "      <th>glucose</th>\n",
       "      <th>blood_pressure</th>\n",
       "      <th>skin_thickness</th>\n",
       "      <th>insulin</th>\n",
       "      <th>bmi</th>\n",
       "      <th>diabetes_pedigree_function</th>\n",
       "      <th>outcome</th>\n",
       "      <th>birth_year</th>\n",
       "      <th>number_of_pregnancies</th>\n",
       "      <th>age</th>\n",
       "      <th>glucose_insulin_difference</th>\n",
       "      <th>predictions</th>\n",
       "    </tr>\n",
       "    <tr>\n",
       "      <th>PatientID</th>\n",
       "      <th></th>\n",
       "      <th></th>\n",
       "      <th></th>\n",
       "      <th></th>\n",
       "      <th></th>\n",
       "      <th></th>\n",
       "      <th></th>\n",
       "      <th></th>\n",
       "      <th></th>\n",
       "      <th></th>\n",
       "      <th></th>\n",
       "      <th></th>\n",
       "    </tr>\n",
       "  </thead>\n",
       "  <tbody>\n",
       "    <tr>\n",
       "      <th>18022</th>\n",
       "      <td>129</td>\n",
       "      <td>80</td>\n",
       "      <td>0</td>\n",
       "      <td>0</td>\n",
       "      <td>31.2</td>\n",
       "      <td>0.703</td>\n",
       "      <td>0</td>\n",
       "      <td>1992</td>\n",
       "      <td>0</td>\n",
       "      <td>32</td>\n",
       "      <td>129</td>\n",
       "      <td>0</td>\n",
       "    </tr>\n",
       "    <tr>\n",
       "      <th>18024</th>\n",
       "      <td>159</td>\n",
       "      <td>64</td>\n",
       "      <td>0</td>\n",
       "      <td>0</td>\n",
       "      <td>27.4</td>\n",
       "      <td>0.294</td>\n",
       "      <td>0</td>\n",
       "      <td>1981</td>\n",
       "      <td>7</td>\n",
       "      <td>43</td>\n",
       "      <td>159</td>\n",
       "      <td>1</td>\n",
       "    </tr>\n",
       "    <tr>\n",
       "      <th>18051</th>\n",
       "      <td>137</td>\n",
       "      <td>61</td>\n",
       "      <td>0</td>\n",
       "      <td>0</td>\n",
       "      <td>24.2</td>\n",
       "      <td>0.151</td>\n",
       "      <td>0</td>\n",
       "      <td>1966</td>\n",
       "      <td>6</td>\n",
       "      <td>58</td>\n",
       "      <td>137</td>\n",
       "      <td>0</td>\n",
       "    </tr>\n",
       "    <tr>\n",
       "      <th>18114</th>\n",
       "      <td>113</td>\n",
       "      <td>50</td>\n",
       "      <td>10</td>\n",
       "      <td>85</td>\n",
       "      <td>29.5</td>\n",
       "      <td>0.626</td>\n",
       "      <td>0</td>\n",
       "      <td>1996</td>\n",
       "      <td>3</td>\n",
       "      <td>28</td>\n",
       "      <td>28</td>\n",
       "      <td>0</td>\n",
       "    </tr>\n",
       "    <tr>\n",
       "      <th>18147</th>\n",
       "      <td>105</td>\n",
       "      <td>90</td>\n",
       "      <td>0</td>\n",
       "      <td>0</td>\n",
       "      <td>29.6</td>\n",
       "      <td>0.197</td>\n",
       "      <td>0</td>\n",
       "      <td>1975</td>\n",
       "      <td>0</td>\n",
       "      <td>49</td>\n",
       "      <td>105</td>\n",
       "      <td>1</td>\n",
       "    </tr>\n",
       "  </tbody>\n",
       "</table>\n",
       "</div>"
      ]
     },
     "execution_count": 6,
     "metadata": {},
     "output_type": "execute_result"
    }
   ],
   "execution_count": 6
  },
  {
   "metadata": {
    "ExecuteTime": {
     "end_time": "2024-08-04T16:00:02.394941Z",
     "start_time": "2024-08-04T16:00:02.385374Z"
    }
   },
   "cell_type": "code",
   "source": "data_from_file.to_csv(\"../data_from_feature_store_with_predictions.csv\")\n",
   "id": "fc9e6b345c218ac1",
   "outputs": [],
   "execution_count": 7
  },
  {
   "metadata": {},
   "cell_type": "code",
   "outputs": [],
   "execution_count": null,
   "source": "",
   "id": "324090f40a3b7a3d"
  }
 ],
 "metadata": {
  "kernelspec": {
   "display_name": "Python 3",
   "language": "python",
   "name": "python3"
  },
  "language_info": {
   "codemirror_mode": {
    "name": "ipython",
    "version": 2
   },
   "file_extension": ".py",
   "mimetype": "text/x-python",
   "name": "python",
   "nbconvert_exporter": "python",
   "pygments_lexer": "ipython2",
   "version": "2.7.6"
  }
 },
 "nbformat": 4,
 "nbformat_minor": 5
}
